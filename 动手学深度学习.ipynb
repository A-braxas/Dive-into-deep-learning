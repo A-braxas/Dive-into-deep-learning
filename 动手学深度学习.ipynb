{
  "nbformat": 4,
  "nbformat_minor": 0,
  "metadata": {
    "colab": {
      "name": "动手学深度学习.ipynb",
      "provenance": [],
      "collapsed_sections": [],
      "authorship_tag": "ABX9TyMy0P7Lf6wErwfTMnORJuoj",
      "include_colab_link": true
    },
    "kernelspec": {
      "name": "python3",
      "display_name": "Python 3"
    }
  },
  "cells": [
    {
      "cell_type": "markdown",
      "metadata": {
        "id": "view-in-github",
        "colab_type": "text"
      },
      "source": [
        "<a href=\"https://colab.research.google.com/github/A-braxas/Dive-into-deep-learning/blob/main/%E5%8A%A8%E6%89%8B%E5%AD%A6%E6%B7%B1%E5%BA%A6%E5%AD%A6%E4%B9%A0.ipynb\" target=\"_parent\"><img src=\"https://colab.research.google.com/assets/colab-badge.svg\" alt=\"Open In Colab\"/></a>"
      ]
    },
    {
      "cell_type": "markdown",
      "metadata": {
        "id": "9O-SdHN3d-2U"
      },
      "source": [
        "# 配置环境"
      ]
    },
    {
      "cell_type": "code",
      "metadata": {
        "id": "emNV0f07eG2l"
      },
      "source": [
        "from google.colab import drive\n",
        "import os\n",
        "drive.mount('/content/gdrive')\n",
        "os.chdir(\"/content/gdrive/My Drive/Colab Notebooks/Dive into deep learning\")"
      ],
      "execution_count": null,
      "outputs": []
    },
    {
      "cell_type": "code",
      "metadata": {
        "colab": {
          "base_uri": "https://localhost:8080/"
        },
        "id": "-_-GWx7hcrgK",
        "outputId": "298bd82e-fb4e-48d2-b332-0062de1f1f9b"
      },
      "source": [
        "!pwd"
      ],
      "execution_count": null,
      "outputs": [
        {
          "output_type": "stream",
          "text": [
            "/content/gdrive/My Drive/Colab Notebooks/Dive into deep learning\n"
          ],
          "name": "stdout"
        }
      ]
    },
    {
      "cell_type": "code",
      "metadata": {
        "colab": {
          "base_uri": "https://localhost:8080/"
        },
        "id": "jdbNAWYqfvMj",
        "outputId": "5506eb56-a56f-4d5b-e757-8a3ae5dc1419"
      },
      "source": [
        "!pip install -q mxnet-cu101"
      ],
      "execution_count": null,
      "outputs": [
        {
          "output_type": "stream",
          "text": [
            "\u001b[K     |███████████████████████████████▌| 834.1MB 1.9MB/s eta 0:00:07tcmalloc: large alloc 1147494400 bytes == 0x55be1d23e000 @  0x7f256a2dc615 0x55bde374506c 0x55bde3824eba 0x55bde3747e8d 0x55bde383999d 0x55bde37bbfe9 0x55bde37b6b0e 0x55bde374977a 0x55bde37bbe50 0x55bde37b6b0e 0x55bde374977a 0x55bde37b886a 0x55bde383a7c6 0x55bde37b7ee2 0x55bde383a7c6 0x55bde37b7ee2 0x55bde383a7c6 0x55bde37b7ee2 0x55bde383a7c6 0x55bde37b7ee2 0x55bde374969a 0x55bde37b7c9e 0x55bde37b6e0d 0x55bde374977a 0x55bde37b7a45 0x55bde374969a 0x55bde37b7a45 0x55bde37b6b0e 0x55bde374977a 0x55bde37b886a 0x55bde37b6b0e\n",
            "\u001b[K     |████████████████████████████████| 846.4MB 19kB/s \n",
            "\u001b[?25h"
          ],
          "name": "stdout"
        }
      ]
    },
    {
      "cell_type": "code",
      "metadata": {
        "id": "gSihNMHQgS68"
      },
      "source": [
        "import mxnet as mx\n",
        "from mxnet import nd, autograd, gluon"
      ],
      "execution_count": null,
      "outputs": []
    },
    {
      "cell_type": "code",
      "metadata": {
        "id": "_pmm-13VgXhL"
      },
      "source": [
        "a = mx.nd.ones((2, 3))\n",
        "b = a * 2 + 1\n",
        "b.asnumpy()"
      ],
      "execution_count": null,
      "outputs": []
    },
    {
      "cell_type": "markdown",
      "metadata": {
        "id": "ol0u8f7bhQnx"
      },
      "source": [
        "# 程序"
      ]
    },
    {
      "cell_type": "code",
      "metadata": {
        "id": "KYM5ZE4NhZ41"
      },
      "source": [
        "from IPython import display\n",
        "from matplotlib import pyplot as plt\n",
        "from mxnet import autograd, nd\n",
        "import random"
      ],
      "execution_count": null,
      "outputs": []
    },
    {
      "cell_type": "code",
      "metadata": {
        "id": "NPxADHEchyl1"
      },
      "source": [
        "num_inputs = 2\n",
        "num_examples = 1000\n",
        "true_w = [2, -3.4]\n",
        "true_b = 4.2\n",
        "features = nd.random.normal(scale=1, shape=(num_examples, num_inputs))\n",
        "labels = true_w[0] * features[:, 0] + true_w[1] * features[:, 1] + true_b\n",
        "labels += nd.random.normal(scale=0.01, shape=labels.shape)"
      ],
      "execution_count": null,
      "outputs": []
    },
    {
      "cell_type": "code",
      "metadata": {
        "id": "U5uOpzW9h74v",
        "colab": {
          "base_uri": "https://localhost:8080/"
        },
        "outputId": "8a68581f-1d86-456a-9b62-fe739c863878"
      },
      "source": [
        "features[0], labels[0]"
      ],
      "execution_count": 27,
      "outputs": [
        {
          "output_type": "execute_result",
          "data": {
            "text/plain": [
              "(\n",
              " [2.2122064 0.7740038]\n",
              " <NDArray 2 @cpu(0)>, \n",
              " [6.000587]\n",
              " <NDArray 1 @cpu(0)>)"
            ]
          },
          "metadata": {
            "tags": []
          },
          "execution_count": 27
        }
      ]
    }
  ]
}