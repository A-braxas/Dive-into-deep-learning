{
  "nbformat": 4,
  "nbformat_minor": 0,
  "metadata": {
    "colab": {
      "name": "动手学深度学习.ipynb",
      "provenance": [],
      "collapsed_sections": [],
      "authorship_tag": "ABX9TyOiAK4ksL/F9wMRX0iOHvqu",
      "include_colab_link": true
    },
    "kernelspec": {
      "name": "python3",
      "display_name": "Python 3"
    }
  },
  "cells": [
    {
      "cell_type": "markdown",
      "metadata": {
        "id": "view-in-github",
        "colab_type": "text"
      },
      "source": [
        "<a href=\"https://colab.research.google.com/github/A-braxas/Dive-into-deep-learning/blob/main/%E5%8A%A8%E6%89%8B%E5%AD%A6%E6%B7%B1%E5%BA%A6%E5%AD%A6%E4%B9%A0.ipynb\" target=\"_parent\"><img src=\"https://colab.research.google.com/assets/colab-badge.svg\" alt=\"Open In Colab\"/></a>"
      ]
    },
    {
      "cell_type": "markdown",
      "metadata": {
        "id": "9O-SdHN3d-2U"
      },
      "source": [
        "# 配置环境"
      ]
    },
    {
      "cell_type": "code",
      "metadata": {
        "id": "emNV0f07eG2l"
      },
      "source": [
        "from google.colab import drive\n",
        "import os\n",
        "drive.mount('/content/gdrive')\n",
        "os.chdir(\"/content/gdrive/My Drive/Colab Notebooks/Dive into deep learning\")"
      ],
      "execution_count": null,
      "outputs": []
    },
    {
      "cell_type": "code",
      "metadata": {
        "colab": {
          "base_uri": "https://localhost:8080/"
        },
        "id": "-_-GWx7hcrgK",
        "outputId": "298bd82e-fb4e-48d2-b332-0062de1f1f9b"
      },
      "source": [
        "!pwd"
      ],
      "execution_count": null,
      "outputs": [
        {
          "output_type": "stream",
          "text": [
            "/content/gdrive/My Drive/Colab Notebooks/Dive into deep learning\n"
          ],
          "name": "stdout"
        }
      ]
    },
    {
      "cell_type": "code",
      "metadata": {
        "colab": {
          "base_uri": "https://localhost:8080/"
        },
        "id": "jdbNAWYqfvMj",
        "outputId": "5506eb56-a56f-4d5b-e757-8a3ae5dc1419"
      },
      "source": [
        "!pip install -q mxnet-cu101"
      ],
      "execution_count": null,
      "outputs": [
        {
          "output_type": "stream",
          "text": [
            "\u001b[K     |███████████████████████████████▌| 834.1MB 1.9MB/s eta 0:00:07tcmalloc: large alloc 1147494400 bytes == 0x55be1d23e000 @  0x7f256a2dc615 0x55bde374506c 0x55bde3824eba 0x55bde3747e8d 0x55bde383999d 0x55bde37bbfe9 0x55bde37b6b0e 0x55bde374977a 0x55bde37bbe50 0x55bde37b6b0e 0x55bde374977a 0x55bde37b886a 0x55bde383a7c6 0x55bde37b7ee2 0x55bde383a7c6 0x55bde37b7ee2 0x55bde383a7c6 0x55bde37b7ee2 0x55bde383a7c6 0x55bde37b7ee2 0x55bde374969a 0x55bde37b7c9e 0x55bde37b6e0d 0x55bde374977a 0x55bde37b7a45 0x55bde374969a 0x55bde37b7a45 0x55bde37b6b0e 0x55bde374977a 0x55bde37b886a 0x55bde37b6b0e\n",
            "\u001b[K     |████████████████████████████████| 846.4MB 19kB/s \n",
            "\u001b[?25h"
          ],
          "name": "stdout"
        }
      ]
    },
    {
      "cell_type": "code",
      "metadata": {
        "id": "gSihNMHQgS68"
      },
      "source": [
        "import mxnet as mx\n",
        "from mxnet import nd, autograd, gluon"
      ],
      "execution_count": null,
      "outputs": []
    },
    {
      "cell_type": "markdown",
      "metadata": {
        "id": "ol0u8f7bhQnx"
      },
      "source": [
        "# 程序"
      ]
    },
    {
      "cell_type": "code",
      "metadata": {
        "id": "KYM5ZE4NhZ41"
      },
      "source": [
        "from IPython import display\n",
        "from matplotlib import pyplot as plt\n",
        "from mxnet import autograd, nd\n",
        "import random"
      ],
      "execution_count": null,
      "outputs": []
    },
    {
      "cell_type": "code",
      "metadata": {
        "id": "NPxADHEchyl1"
      },
      "source": [
        "num_inputs = 2\n",
        "num_examples = 1000\n",
        "true_w = [2, -3.4]\n",
        "true_b = 4.2\n",
        "features = nd.random.normal(scale=1, shape=(num_examples, num_inputs))\n",
        "labels = true_w[0] * features[:, 0] + true_w[1] * features[:, 1] + true_b\n",
        "labels += nd.random.normal(scale=0.01, shape=labels.shape)"
      ],
      "execution_count": null,
      "outputs": []
    },
    {
      "cell_type": "code",
      "metadata": {
        "id": "U5uOpzW9h74v",
        "colab": {
          "base_uri": "https://localhost:8080/"
        },
        "outputId": "8a68581f-1d86-456a-9b62-fe739c863878"
      },
      "source": [
        "features[0], labels[0]"
      ],
      "execution_count": 27,
      "outputs": [
        {
          "output_type": "execute_result",
          "data": {
            "text/plain": [
              "(\n",
              " [2.2122064 0.7740038]\n",
              " <NDArray 2 @cpu(0)>, \n",
              " [6.000587]\n",
              " <NDArray 1 @cpu(0)>)"
            ]
          },
          "metadata": {
            "tags": []
          },
          "execution_count": 27
        }
      ]
    },
    {
      "cell_type": "code",
      "metadata": {
        "id": "TtB5yE2bkNvH"
      },
      "source": [
        "def use_svg_display():\n",
        "    # 用矢量图显示\n",
        "    display.set_matplotlib_formats('svg')\n",
        "\n",
        "def set_figsize(figsize=(3.5, 2.5)):\n",
        "    use_svg_display()\n",
        "    # 设置图的尺寸\n",
        "    plt.rcParams['figure.figsize'] = figsize\n",
        "\n",
        "def data_iter(batch_size, features, labels):\n",
        "    num_examples = len(features)\n",
        "    indices = list(range(num_examples))\n",
        "    random.shuffle(indices)  # 样本的读取顺序是随机的\n",
        "    for i in range(0, num_examples, batch_size):\n",
        "        j = nd.array(indices[i: min(i + batch_size, num_examples)])\n",
        "        yield features.take(j), labels.take(j)  # take函数根据索引返回对应元素\n",
        "#set_figsize()\n",
        "#plt.scatter(features[:, 1].asnumpy(), labels.asnumpy(), 1);  # 加分号只显示图"
      ],
      "execution_count": 30,
      "outputs": []
    },
    {
      "cell_type": "code",
      "metadata": {
        "id": "8-cLSXFikxxo"
      },
      "source": [
        "batch_size = 10\n",
        "w = nd.random.normal(scale=0.01, shape=(num_inputs, 1))\n",
        "b = nd.zeros(shape=(1,))\n",
        "w.attach_grad()\n",
        "b.attach_grad()"
      ],
      "execution_count": 36,
      "outputs": []
    },
    {
      "cell_type": "code",
      "metadata": {
        "id": "CzIHK6alk2TH"
      },
      "source": [
        "def linreg(X, w, b):  # 本函数已保存在d2lzh包中方便以后使用\n",
        "    return nd.dot(X, w) + b"
      ],
      "execution_count": 32,
      "outputs": []
    },
    {
      "cell_type": "code",
      "metadata": {
        "id": "ihZkoN5Fk5_q"
      },
      "source": [
        "def squared_loss(y_hat, y):  # 本函数已保存在d2lzh包中方便以后使用\n",
        "    return (y_hat - y.reshape(y_hat.shape)) ** 2 / 2"
      ],
      "execution_count": 33,
      "outputs": []
    },
    {
      "cell_type": "code",
      "metadata": {
        "id": "4fDa2ny1k9Kc"
      },
      "source": [
        "def sgd(params, lr, batch_size):  # 本函数已保存在d2lzh包中方便以后使用\n",
        "    for param in params:\n",
        "        param[:] = param - lr * param.grad / batch_size"
      ],
      "execution_count": 34,
      "outputs": []
    },
    {
      "cell_type": "code",
      "metadata": {
        "colab": {
          "base_uri": "https://localhost:8080/"
        },
        "id": "_p681TOuk_c0",
        "outputId": "734d0682-37a6-4833-8a60-1f0ae34b1cda"
      },
      "source": [
        "lr = 0.03\n",
        "num_epochs = 3\n",
        "net = linreg\n",
        "loss = squared_loss\n",
        "\n",
        "for epoch in range(num_epochs):  # 训练模型一共需要num_epochs个迭代周期\n",
        "    # 在每一个迭代周期中，会使用训练数据集中所有样本一次（假设样本数能够被批量大小整除）。X\n",
        "    # 和y分别是小批量样本的特征和标签\n",
        "    for X, y in data_iter(batch_size, features, labels):\n",
        "        with autograd.record():\n",
        "            l = loss(net(X, w, b), y)  # l是有关小批量X和y的损失\n",
        "        l.backward()  # 小批量的损失对模型参数求梯度\n",
        "        sgd([w, b], lr, batch_size)  # 使用小批量随机梯度下降迭代模型参数\n",
        "    train_l = loss(net(features, w, b), labels)\n",
        "    print('epoch %d, loss %f' % (epoch + 1, train_l.mean().asnumpy()))"
      ],
      "execution_count": 37,
      "outputs": [
        {
          "output_type": "stream",
          "text": [
            "epoch 1, loss 0.040706\n",
            "epoch 2, loss 0.000158\n",
            "epoch 3, loss 0.000050\n"
          ],
          "name": "stdout"
        }
      ]
    },
    {
      "cell_type": "code",
      "metadata": {
        "colab": {
          "base_uri": "https://localhost:8080/"
        },
        "id": "UeWISy7XlBp0",
        "outputId": "0ce79d71-5435-4a1f-fd29-5a4139116d95"
      },
      "source": [
        "true_w, w"
      ],
      "execution_count": 42,
      "outputs": [
        {
          "output_type": "execute_result",
          "data": {
            "text/plain": [
              "([2, -3.4], \n",
              " [[ 1.9998305]\n",
              "  [-3.3996658]]\n",
              " <NDArray 2x1 @cpu(0)>)"
            ]
          },
          "metadata": {
            "tags": []
          },
          "execution_count": 42
        }
      ]
    },
    {
      "cell_type": "code",
      "metadata": {
        "colab": {
          "base_uri": "https://localhost:8080/"
        },
        "id": "MCghXJQvlitz",
        "outputId": "f20a257a-9ea5-4255-9a2f-702800a40100"
      },
      "source": [
        "true_b, b"
      ],
      "execution_count": 43,
      "outputs": [
        {
          "output_type": "execute_result",
          "data": {
            "text/plain": [
              "(4.2, \n",
              " [4.199946]\n",
              " <NDArray 1 @cpu(0)>)"
            ]
          },
          "metadata": {
            "tags": []
          },
          "execution_count": 43
        }
      ]
    }
  ]
}